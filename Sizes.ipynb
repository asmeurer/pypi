{
 "metadata": {
  "name": "",
  "signature": "sha256:0cb2757b6a397d76796efcd57c6dd1dbf162c67ce544ffe126b8ff583ab988b1"
 },
 "nbformat": 3,
 "nbformat_minor": 0,
 "worksheets": [
  {
   "cells": [
    {
     "cell_type": "code",
     "collapsed": false,
     "input": [
      "from __future__ import division\n",
      "from collections import defaultdict\n",
      "\n",
      "import pickle\n",
      "with open('pypi-release.pickle', 'rb') as f:\n",
      "    release = pickle.load(f)\n",
      "with open('pypi-releaseurls.pickle', 'rb') as f:\n",
      "    releaseurls = pickle.load(f)"
     ],
     "language": "python",
     "metadata": {},
     "outputs": [],
     "prompt_number": 30
    },
    {
     "cell_type": "code",
     "collapsed": false,
     "input": [
      "def human_bytes(n):\n",
      "    \"\"\"\n",
      "    Return the number of bytes n in more human readable form.\n",
      "    \"\"\"\n",
      "    if n < 1024:\n",
      "        return '%d B' % n\n",
      "    k = n/1024\n",
      "    if k < 1024:\n",
      "        return '%d KB' % round(k)\n",
      "    m = k/1024\n",
      "    if m < 1024:\n",
      "        return '%.1f MB' % m\n",
      "    g = m/1024\n",
      "    return '%.2f GB' % g\n"
     ],
     "language": "python",
     "metadata": {},
     "outputs": [],
     "prompt_number": 4
    },
    {
     "cell_type": "code",
     "collapsed": false,
     "input": [
      "tot = 0\n",
      "sizes = defaultdict(list)\n",
      "for r in releaseurls:\n",
      "    for version in releaseurls[r]:\n",
      "        for download in releaseurls[r][version]:\n",
      "            size = download['size']\n",
      "            sizes[size].append(r)\n",
      "            tot += size"
     ],
     "language": "python",
     "metadata": {},
     "outputs": [],
     "prompt_number": 31
    },
    {
     "cell_type": "code",
     "collapsed": false,
     "input": [
      "tot"
     ],
     "language": "python",
     "metadata": {},
     "outputs": [
      {
       "metadata": {},
       "output_type": "pyout",
       "prompt_number": 32,
       "text": [
        "81576275482"
       ]
      }
     ],
     "prompt_number": 32
    },
    {
     "cell_type": "code",
     "collapsed": false,
     "input": [
      "human_bytes(tot)"
     ],
     "language": "python",
     "metadata": {},
     "outputs": [
      {
       "metadata": {},
       "output_type": "pyout",
       "prompt_number": 33,
       "text": [
        "'75.97 GB'"
       ]
      }
     ],
     "prompt_number": 33
    },
    {
     "cell_type": "code",
     "collapsed": false,
     "input": [
      "%matplotlib inline\n",
      "from matplotlib.pylab import hist"
     ],
     "language": "python",
     "metadata": {},
     "outputs": [],
     "prompt_number": 22
    },
    {
     "cell_type": "code",
     "collapsed": false,
     "input": [
      "hist(sizes, log=True)"
     ],
     "language": "python",
     "metadata": {},
     "outputs": [
      {
       "metadata": {},
       "output_type": "pyout",
       "prompt_number": 25,
       "text": [
        "(array([  2.39611000e+05,   1.78000000e+03,   8.43000000e+02,\n",
        "          3.05000000e+02,   8.40000000e+01,   5.50000000e+01,\n",
        "          2.80000000e+01,   2.20000000e+01,   1.00000000e+00,\n",
        "          4.00000000e+00]),\n",
        " array([        0. ,   5370933.2,  10741866.4,  16112799.6,  21483732.8,\n",
        "         26854666. ,  32225599.2,  37596532.4,  42967465.6,  48338398.8,\n",
        "         53709332. ]),\n",
        " <a list of 10 Patch objects>)"
       ]
      },
      {
       "metadata": {},
       "output_type": "display_data",
       "png": "[encoded data removed]",
       "text": [
        "<matplotlib.figure.Figure at 0x12e6c5518>"
       ]
      }
     ],
     "prompt_number": 25
    },
    {
     "cell_type": "code",
     "collapsed": false,
     "input": [
      "[(human_bytes(i), sizes[i]) for i in sorted(sizes, reverse=True)[:50]]"
     ],
     "language": "python",
     "metadata": {},
     "outputs": [
      {
       "metadata": {},
       "output_type": "pyout",
       "prompt_number": 37,
       "text": [
        "[('51.2 MB', ['tai5_uan5_gian5_gi2_kang1_ku7']),\n",
        " ('49.1 MB', ['tai5_uan5_gian5_gi2_kang1_ku7']),\n",
        " ('49.1 MB', ['tai5_uan5_gian5_gi2_kang1_ku7']),\n",
        " ('48.8 MB', ['tai5_uan5_gian5_gi2_kang1_ku7']),\n",
        " ('43.1 MB', ['Shinken']),\n",
        " ('40.7 MB', ['matplotlib']),\n",
        " ('40.3 MB', ['KDVS']),\n",
        " ('37.7 MB', ['snownlp']),\n",
        " ('37.7 MB', ['snownlp']),\n",
        " ('37.7 MB', ['snownlp']),\n",
        " ('37.7 MB', ['snownlp']),\n",
        " ('37.7 MB', ['snownlp']),\n",
        " ('37.7 MB', ['snownlp']),\n",
        " ('37.2 MB', ['Scidoc']),\n",
        " ('37.2 MB', ['QSTK']),\n",
        " ('37.1 MB', ['pycortex']),\n",
        " ('36.5 MB', ['b2gpopulate']),\n",
        " ('36.5 MB', ['b2gpopulate']),\n",
        " ('36.5 MB', ['b2gpopulate']),\n",
        " ('36.5 MB', ['b2gpopulate']),\n",
        " ('36.5 MB', ['b2gpopulate']),\n",
        " ('36.5 MB', ['b2gpopulate']),\n",
        " ('36.5 MB', ['b2gpopulate']),\n",
        " ('36.5 MB', ['b2gpopulate']),\n",
        " ('36.5 MB', ['b2gpopulate']),\n",
        " ('36.5 MB', ['b2gpopulate']),\n",
        " ('36.5 MB', ['b2gpopulate']),\n",
        " ('35.7 MB', ['ajenti']),\n",
        " ('35.7 MB', ['ajenti']),\n",
        " ('35.6 MB', ['ajenti']),\n",
        " ('35.6 MB', ['ajenti']),\n",
        " ('35.6 MB', ['ajenti']),\n",
        " ('35.6 MB', ['ajenti']),\n",
        " ('35.6 MB', ['ajenti']),\n",
        " ('35.6 MB', ['ajenti']),\n",
        " ('35.5 MB', ['ajenti']),\n",
        " ('34.7 MB', ['de423']),\n",
        " ('34.5 MB', ['BigJob2']),\n",
        " ('34.5 MB', ['BigJob2']),\n",
        " ('34.5 MB', ['BigJob2']),\n",
        " ('34.5 MB', ['BigJob2']),\n",
        " ('33.0 MB', ['qiime']),\n",
        " ('32.0 MB', ['pyopenms']),\n",
        " ('31.9 MB', ['music21']),\n",
        " ('31.6 MB', ['pyopenms']),\n",
        " ('31.3 MB', ['remix']),\n",
        " ('31.3 MB', ['remix']),\n",
        " ('31.3 MB', ['remix']),\n",
        " ('31.3 MB', ['remix']),\n",
        " ('31.3 MB', ['remix'])]"
       ]
      }
     ],
     "prompt_number": 37
    },
    {
     "cell_type": "code",
     "collapsed": false,
     "input": [],
     "language": "python",
     "metadata": {},
     "outputs": []
    }
   ],
   "metadata": {}
  }
 ]
}